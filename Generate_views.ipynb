{
 "cells": [
  {
   "cell_type": "code",
   "execution_count": 1,
   "metadata": {
    "ExecuteTime": {
     "end_time": "2020-11-24T23:06:53.892314Z",
     "start_time": "2020-11-24T23:06:52.821503Z"
    }
   },
   "outputs": [],
   "source": [
    "from random import randint\n",
    "from random import choice\n",
    "from selenium import webdriver\n",
    "from selenium.webdriver.common.by import By\n",
    "from selenium.webdriver.common.keys import Keys\n",
    "from selenium.webdriver.support.ui import WebDriverWait\n",
    "from selenium.webdriver.support import expected_conditions as EC\n",
    "from time import sleep\n",
    "\n",
    "from itertools import cycle\n",
    "import traceback\n",
    "\n",
    "import requests\n",
    "import pandas as pd\n",
    "\n",
    "# Import py\n",
    "from Proxy_rotation import get_proxies"
   ]
  },
  {
   "cell_type": "code",
   "execution_count": 2,
   "metadata": {
    "ExecuteTime": {
     "end_time": "2020-11-24T23:06:53.908304Z",
     "start_time": "2020-11-24T23:06:53.894309Z"
    }
   },
   "outputs": [
    {
     "data": {
      "text/plain": [
       "['Gbu3fmC05GM&t', 'wyEB3cL0PXI']"
      ]
     },
     "execution_count": 2,
     "metadata": {},
     "output_type": "execute_result"
    }
   ],
   "source": [
    "\"\"\"\n",
    "Importing second part of the urls for the YouTube videos.\n",
    "\"\"\"\n",
    "\n",
    "choices = open('url.txt', 'r').read().split('\\n')\n",
    "choices"
   ]
  },
  {
   "cell_type": "code",
   "execution_count": 19,
   "metadata": {
    "ExecuteTime": {
     "end_time": "2020-11-24T22:58:36.049641Z",
     "start_time": "2020-11-24T22:58:36.029551Z"
    }
   },
   "outputs": [
    {
     "data": {
      "text/plain": [
       "'\\n\\nThis part can be used to see how the proxies are called and checked if they work or not.\\nWe added a break so it will stop at the first iteration when it finds a proxy. But you can skip that part if you want.\\n\\n'"
      ]
     },
     "execution_count": 19,
     "metadata": {},
     "output_type": "execute_result"
    }
   ],
   "source": [
    "\"\"\"\n",
    "\n",
    "This part can be used to see how the proxies are called and checked if they work or not.\n",
    "We added a break so it will stop at the first iteration when it finds a proxy. But you can skip that part if you want.\n",
    "\n",
    "\"\"\"\n",
    "\n",
    "# url = 'https://httpbin.org/ip'\n",
    "# proxy_pool = get_proxies()\n",
    "# for i in range(1,10):\n",
    "#     #Get a proxy from the pool\n",
    "#     proxy = choice(proxy_pool)\n",
    "#     print(\"Request #%d\"%i)\n",
    "#     try:\n",
    "#         response = requests.get(url,proxies={\"http\": proxy, \"https\": proxy})\n",
    "#         print(\"Good proxy\",proxy)\n",
    "#         break\n",
    "#     except:\n",
    "#         print(\"Skipping. Connnection error\")"
   ]
  },
  {
   "cell_type": "code",
   "execution_count": 21,
   "metadata": {
    "ExecuteTime": {
     "end_time": "2020-11-24T23:02:32.057455Z",
     "start_time": "2020-11-24T23:02:32.046484Z"
    }
   },
   "outputs": [
    {
     "data": {
      "text/plain": [
       "'\\n\\nThis part will show how we use Selenium to access YouTube through chromedriver. This is just a short demo with a count of 5\\nbut using a Linux machine, you can leave the code work all day.\\n\\nWe added some touch of human behaviour like clicking the screen, searching by video, closing pop ups etc.\\nOther features can be added like clicking in the middle of the video or others.\\n'"
      ]
     },
     "execution_count": 21,
     "metadata": {},
     "output_type": "execute_result"
    }
   ],
   "source": [
    "\"\"\"\n",
    "\n",
    "This part will show how we use Selenium to access YouTube through chromedriver. This is just a short demo with a count of 5\n",
    "but using a Linux machine, you can leave the code work all day.\n",
    "\n",
    "We added some touch of human behaviour like clicking the screen, searching by video, closing pop ups etc.\n",
    "Other features can be added like clicking in the middle of the video or others.\n",
    "\"\"\"\n",
    "\n",
    "# for i in range(5):\n",
    "#     sleep(randint(1,3))\n",
    "#     options= webdriver.ChromeOptions()\n",
    "#     options.add_argument(\"start-maximized\")\n",
    "#     options.add_argument(\"disable-infobars\")\n",
    "#     options.add_argument(\"--disable-extensions\")\n",
    "    \n",
    "#     #f you are using Linux\n",
    "# #     driver = webdriver.Chrome(options=options)\n",
    "#     #if you are using Windows\n",
    "#     driver = webdriver.Chrome(options=options,executable_path=\"C:\\Webdrivers\\chromedriver.exe\")\n",
    "    \n",
    "#     wait = WebDriverWait(driver, 3)\n",
    "#     video = choice(choices)\n",
    "#     driver.get('https://www.youtube.com/results?search_query={}'.format(str(video)))\n",
    "#     presence = EC.presence_of_element_located\n",
    "#     visible = EC.visibility_of_element_located\n",
    "\n",
    "#     wait.until(visible((By.ID, \"video-title\")))\n",
    "#     driver.find_element_by_id(\"video-title\").click()\n",
    "#     sleep(5)\n",
    "#     try:\n",
    "#         WebDriverWait(driver, 10).until(EC.element_to_be_clickable((By.XPATH,'/html/body/ytd-app/ytd-popup-container/paper-dialog/yt-upsell-dialog-renderer/div/div[3]/div[1]/yt-button-renderer/a/paper-button/yt-formatted-string'))).click()\n",
    "#         driver.switch_to.frame(0)\n",
    "#         WebDriverWait(driver, 10).until(EC.element_to_be_clickable((By.XPATH,\"/html/body/div/c-wiz/div[2]/div/div/div/div/div[2]/form/div/span/span\"))).click()\n",
    "#     except:\n",
    "#         try:\n",
    "#             driver.switch_to.frame(0)\n",
    "#             WebDriverWait(driver, 10).until(EC.element_to_be_clickable((By.XPATH,\"/html/body/div/c-wiz/div[2]/div/div/div/div/div[2]/form/div/span/span\"))).click()\n",
    "#             WebDriverWait(driver, 10).until(EC.element_to_be_clickable((By.XPATH, '/html/body/ytd-app/ytd-popup-container/paper-dialog/yt-upsell-dialog-renderer/div/div[3]/div[1]/yt-button-renderer/a/paper-button/yt-formatted-string'))).click()\n",
    "#         except:\n",
    "#             pass\n",
    "#     sleep(randint(5,10))\n",
    "#     driver.quit()"
   ]
  },
  {
   "cell_type": "code",
   "execution_count": null,
   "metadata": {
    "ExecuteTime": {
     "start_time": "2020-11-24T23:07:29.955Z"
    }
   },
   "outputs": [
    {
     "name": "stdout",
     "output_type": "stream",
     "text": [
      "Request #1\n",
      "Skipping. Connnection error\n",
      "Request #2\n",
      "Skipping. Connnection error\n",
      "Request #3\n",
      "Good proxy\n",
      "Request #4\n",
      "Skipping. Connnection error\n",
      "Request #1\n",
      "Skipping. Connnection error\n",
      "Request #2\n",
      "Good proxy\n",
      "Skipping. Connnection error\n",
      "Request #3\n",
      "Skipping. Connnection error\n",
      "Request #4\n"
     ]
    }
   ],
   "source": [
    "\"\"\"\n",
    "This part will combine both of the algorithms. We try to find a working proxy and using it in our Selenium part.\n",
    "\n",
    "\"\"\"\n",
    "\n",
    "url = 'https://httpbin.org/ip'\n",
    "for j in range(5):\n",
    "    proxy_pool = get_proxies()\n",
    "    for i in range(1,5):\n",
    "        #Get a proxy from the pool\n",
    "        proxy = choice(proxy_pool)\n",
    "        print(\"Request #%d\"%i, proxy)\n",
    "        try:\n",
    "            response = requests.get(url,proxies={\"http\": proxy, \"https\": proxy})\n",
    "            print(\"Good proxy\",proxy)\n",
    "            \n",
    "            sleep(randint(1,3))\n",
    "            options= webdriver.ChromeOptions()\n",
    "            options.add_argument('--proxy-server=%s' % str(proxy))\n",
    "#             driver = webdriver.Chrome(options=options)\n",
    "            driver = webdriver.Chrome(options=options,executable_path=\"C:\\Webdrivers\\chromedriver.exe\")\n",
    "            wait = WebDriverWait(driver, 3)\n",
    "            video = choice(choices)\n",
    "            driver.get('https://www.youtube.com/results?search_query={}'.format(str(video)))\n",
    "            presence = EC.presence_of_element_located\n",
    "            visible = EC.visibility_of_element_located\n",
    "            \n",
    "            wait.until(visible((By.ID, \"video-title\")))\n",
    "            driver.find_element_by_id(\"video-title\").click()\n",
    "                \n",
    "            sleep(5)\n",
    "            try:\n",
    "                WebDriverWait(driver, 10).until(EC.element_to_be_clickable((By.XPATH,'/html/body/ytd-app/ytd-popup-container/paper-dialog/yt-upsell-dialog-renderer/div/div[3]/div[1]/yt-button-renderer/a/paper-button/yt-formatted-string'))).click()\n",
    "                driver.switch_to.frame(0)\n",
    "                WebDriverWait(driver, 10).until(EC.element_to_be_clickable((By.XPATH,\"/html/body/div/c-wiz/div[2]/div/div/div/div/div[2]/form/div/span/span\"))).click()\n",
    "            except:\n",
    "                try:\n",
    "                    driver.switch_to.frame(0)\n",
    "                    WebDriverWait(driver, 10).until(EC.element_to_be_clickable((By.XPATH,\"/html/body/div/c-wiz/div[2]/div/div/div/div/div[2]/form/div/span/span\"))).click()\n",
    "                    WebDriverWait(driver, 10).until(EC.element_to_be_clickable((By.XPATH, '/html/body/ytd-app/ytd-popup-container/paper-dialog/yt-upsell-dialog-renderer/div/div[3]/div[1]/yt-button-renderer/a/paper-button/yt-formatted-string'))).click()\n",
    "                except:\n",
    "                    pass\n",
    "            sleep(randint(5,10))\n",
    "            driver.quit()\n",
    "        except:\n",
    "            print(\"Skipping. Connnection error\")"
   ]
  },
  {
   "cell_type": "code",
   "execution_count": null,
   "metadata": {},
   "outputs": [],
   "source": []
  }
 ],
 "metadata": {
  "kernelspec": {
   "display_name": "Python 3",
   "language": "python",
   "name": "python3"
  },
  "language_info": {
   "codemirror_mode": {
    "name": "ipython",
    "version": 3
   },
   "file_extension": ".py",
   "mimetype": "text/x-python",
   "name": "python",
   "nbconvert_exporter": "python",
   "pygments_lexer": "ipython3",
   "version": "3.7.3"
  },
  "latex_envs": {
   "LaTeX_envs_menu_present": true,
   "autoclose": false,
   "autocomplete": true,
   "bibliofile": "biblio.bib",
   "cite_by": "apalike",
   "current_citInitial": 1,
   "eqLabelWithNumbers": true,
   "eqNumInitial": 1,
   "hotkeys": {
    "equation": "Ctrl-E",
    "itemize": "Ctrl-I"
   },
   "labels_anchors": false,
   "latex_user_defs": false,
   "report_style_numbering": false,
   "user_envs_cfg": false
  }
 },
 "nbformat": 4,
 "nbformat_minor": 2
}
